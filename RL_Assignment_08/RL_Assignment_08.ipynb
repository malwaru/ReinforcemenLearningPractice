{
 "cells": [
  {
   "cell_type": "markdown",
   "metadata": {},
   "source": [
    "### Robot Learning\n",
    "\n",
    "### Assignment 08\n",
    "\n",
    "Solutions are due on 14.06.2022 before the lecture."
   ]
  },
  {
   "cell_type": "markdown",
   "metadata": {},
   "source": [
    "The following problem is known as the *tiger problem* and goes back to Cassandra, Littman and Kaelbling ($1994$).\n",
    "\n",
    "A person faces two doors. Behind one, there is a tiger, behind the other, there is a reward of $+800$. Initially, the person has no information behind which door the tiger or the reward are.\n",
    "\n",
    "The person can either listen or open one of the doors.\n",
    "\n",
    "When the door with the tiger behind it is opened, the person will be eaten, which has an associated cost of $–1500$.\n",
    "\n",
    "Listening costs $–50$. When listening, the person will hear a roaring noise that indicates the presence of a tiger, but only with $0.8$ probability will the person be able to localize the noise correctly. With $0.2$ probability, the noise will appear as if it came from the door hiding the reward."
   ]
  },
  {
   "cell_type": "markdown",
   "metadata": {},
   "source": [
    "## Task 8.1)\n",
    "\n",
    "Provide a formal model of the POMDP, in which you define the state, action, and measurement\n",
    "spaces, the cost function, and the associated probability functions.\n",
    "\n",
    "<div style=\"text-align: right; font-weight:bold\"> 4 Points </div>"
   ]
  },
  {
   "cell_type": "markdown",
   "metadata": {},
   "source": [
    "Please answer in this text cell. It is possible to create tables:\n",
    "\n",
    "|<i> $p(x_i | x_j , a_L)$ <i> | $j=0$ | $j=1$ |\n",
    "|------|------|------|\n",
    "|   $i=0$  | $1$| $0$ |\n",
    "|   $i=1$  | $0$| $1$ |"
   ]
  },
  {
   "cell_type": "markdown",
   "metadata": {},
   "source": [
    "## Task 8.2)\n",
    "\n",
    "What is the expected cumulative reward/cost of the open-loop action sequence: “Listen, listen,open door 0”? Explain your calculation!\n",
    "\n",
    "<div style=\"text-align: right; font-weight:bold\"> 2 Points </div>"
   ]
  },
  {
   "cell_type": "markdown",
   "metadata": {},
   "source": [
    "Please answer in this text cell."
   ]
  },
  {
   "cell_type": "markdown",
   "metadata": {},
   "source": [
    "## Task 8.3)\n",
    "\n",
    "What is the expected cumulative reward/cost of the action sequence: “Listen, then open the door for which you did not hear a noise”? Again, explain your calculation!\n",
    "\n",
    "<div style=\"text-align: right; font-weight:bold\"> 4 Points </div>"
   ]
  },
  {
   "cell_type": "markdown",
   "metadata": {},
   "source": [
    "Please answer in this text cell."
   ]
  },
  {
   "cell_type": "markdown",
   "metadata": {},
   "source": [
    "## Task 8.4)\n",
    "\n",
    "Perform the one-step backup operation of the POMDP. Plot the resulting piecewise linear value functions in a diagram, just like the ones presented in the lecture. Provide diagrams for all intermediate steps.\n",
    "\n",
    "Hint: This task is possible to solve on paper, but somewhat tedious. We recommend writing a script to solve it.\n",
    "\n",
    "<div style=\"text-align: right; font-weight:bold\"> 10 Points </div>"
   ]
  },
  {
   "cell_type": "code",
   "execution_count": 1,
   "metadata": {
    "ExecuteTime": {
     "end_time": "2022-05-31T09:56:51.337654Z",
     "start_time": "2022-05-31T09:56:51.332741Z"
    }
   },
   "outputs": [],
   "source": [
    "# Your code could go here..."
   ]
  },
  {
   "cell_type": "markdown",
   "metadata": {},
   "source": [
    "... or you could answer in this text cell."
   ]
  }
 ],
 "metadata": {
  "kernelspec": {
   "display_name": "Python 3 (ipykernel)",
   "language": "python",
   "name": "python3"
  },
  "language_info": {
   "codemirror_mode": {
    "name": "ipython",
    "version": 3
   },
   "file_extension": ".py",
   "mimetype": "text/x-python",
   "name": "python",
   "nbconvert_exporter": "python",
   "pygments_lexer": "ipython3",
   "version": "3.8.12"
  }
 },
 "nbformat": 4,
 "nbformat_minor": 2
}
