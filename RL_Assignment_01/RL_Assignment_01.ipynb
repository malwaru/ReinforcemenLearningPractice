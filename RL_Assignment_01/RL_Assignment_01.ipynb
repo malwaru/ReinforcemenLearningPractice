{
 "cells": [
  {
   "cell_type": "markdown",
   "id": "cc19efc6",
   "metadata": {},
   "source": [
    "### Robot Learning\n",
    "\n",
    "### Assignment 1\n",
    "\n",
    "Solutions are due on 19.04.2022 before the lecture.\n",
    "\n",
    "## Task 1.1)\n",
    "\n",
    "In the game of Tic-Tac-Toe, two players alternate placing crosses and circles on a $3 \\times 3$ grid, until one player has a row, column, or diagonal of three own pieces, which is a win.\n",
    "\n",
    "<center><img src=\"helpers/tictactoe.png\" width=\"240\" height=\"240\"/></center>\n",
    "\n",
    "In the following tasks, the game state will be encoded by denoting the symbol $X$ by the digit $2$, the symbol $O$ by the digit $0$ and the blank field by the digit $1$. The board is then viewed as a $3 \\times 3$ matrix and flattened to a vector with $9$ entries. The entries of this vector are regarded as the digits of base 3 number and finally converted to base 10. Using this number, a table of state values V(s) can be maintained. For example:\n",
    "\n",
    "$s_{3 \\times 3} = \\begin{vmatrix}\n",
    "O &  & O \\\\\n",
    "O & X &  \\\\\n",
    "X & X & X\\\\\n",
    "\\end{vmatrix} \\leftrightarrow \\begin{bmatrix}\n",
    "0 & 1 & 0 \\\\\n",
    "0 & 2 & 1\\\\\n",
    "2 & 2 & 2\\\\\n",
    "\\end{bmatrix} \\leftrightarrow 010021222_3 \\leftrightarrow 2402_{10} =: E(s_{3 \\times 3}) =: s$\n",
    "\n",
    "Describe an inverse of this map and illustrate the individual steps in a different example leading to a legal board state!\n",
    "\n",
    "<div style=\"text-align: right; font-weight:bold\"> 4 Points </div>"
   ]
  },
  {
   "cell_type": "markdown",
   "id": "c4ba7c3a",
   "metadata": {},
   "source": [
    "Please answer in this text cell."
   ]
  },
  {
   "cell_type": "markdown",
   "id": "bcc74355",
   "metadata": {},
   "source": [
    "## Task 1.2)\n",
    "\n",
    "Closely examine the script below, in which two random agents face off in a game of Tic-Tac-Toe. \n",
    "\n",
    "Create a suitable structure for state values from the perspective of an agent playing crosses and initialize it for all states with $V(s)=0.1$. Extend the script below to play $num\\_episodes=10000$ matches and set $V(s)=1$ when there is a win or $V(s)=0$ when there is a loss or the game ends in a draw, i.e. no further pieces can be placed.\n",
    "\n",
    "At the end of each game, go through all states that your agent visited in reverse order and set\n",
    "\n",
    "$V(s) \\leftarrow V(s) + 0.2 [ V(s’) - V(s) ]$, where $s’$ is the successor state.\n",
    "\n",
    "Document $V(s)$ for all nine states where the agent playing crosses can place their first piece!\n",
    "\n",
    "<div style=\"text-align: right; font-weight:bold\"> 6 Points </div>"
   ]
  },
  {
   "cell_type": "code",
   "execution_count": 1,
   "id": "dbfed52f",
   "metadata": {},
   "outputs": [
    {
     "data": {
      "image/png": "[encoded data removed]",
      "text/plain": [
       "<Figure size 748.8x374.4 with 8 Axes>"
      ]
     },
     "metadata": {},
     "output_type": "display_data"
    }
   ],
   "source": [
    "# get the required helper class and visualization function\n",
    "import numpy as np\n",
    "from helpers.utils import env, draw_trajectory\n",
    "\n",
    "# this makes sure that all experiments can be reproduced\n",
    "np.random.seed(321)\n",
    "\n",
    "# create a game environment\n",
    "tictactoe = env()\n",
    "# reset the game to the empty board - do this before each new episode\n",
    "tictactoe.reset()\n",
    "\n",
    "# create a flag which tracks whether the game is over\n",
    "done = False\n",
    "\n",
    "# create list to save the trajectory of the agent, start with empty board\n",
    "states = [np.ones((1,3,3),dtype = int)]\n",
    "\n",
    "# simulate until the episode is over\n",
    "while not done:\n",
    "    # which actions are possible for 'X' at the current state?\n",
    "    # what are the indices of the states arising from these actions?\n",
    "    next_state_indices, possible_actions = tictactoe.get_available_actions()\n",
    "    # select one of the actions randomly\n",
    "    a_x = tuple(possible_actions[np.random.choice(possible_actions.shape[0])])\n",
    "    # execute the action using the step function, observe next state and reward\n",
    "    # the reward r is 1 when 'X' wins and 0 otherwise\n",
    "    s_matrix, r, done = tictactoe.step(a=a_x)\n",
    "    # save the state in 3x3 matrix form\n",
    "    states.append(s_matrix)\n",
    "    # HINT: call tictactoe.state_to_ind(s_matrix) to encode the state\n",
    "    # we don't need to simulate for 'O' if the game is already over\n",
    "    if done:\n",
    "        break\n",
    "    # simulate the random action of the 'O' player in the same manner\n",
    "    _, possible_actions = tictactoe.get_available_actions(p=0)\n",
    "    a_o = tuple(possible_actions[np.random.choice(possible_actions.shape[0])])\n",
    "    s_matrix, r, done = tictactoe.step(a=a_o, player=0)\n",
    "    states.append(s_matrix)\n",
    "\n",
    "# use the helper function to display how the episode went\n",
    "draw_trajectory(np.concatenate(states))"
   ]
  },
  {
   "cell_type": "markdown",
   "id": "777fa355",
   "metadata": {},
   "source": [
    "## Task 1.3)\n",
    "\n",
    "Replace your agent's arbitrary action selection by an epsilon-greedy strategy that with probability $0.9$ places your piece such that $V(s)$ is maximized (break ties randomly) and with probability $0.1$ places your piece uniformly among the empty fields.\n",
    "\n",
    "Play $10000$ automated games. For every $100$ games compute how often your player won and document this learning curve!\n",
    "\n",
    "Again document $V(s)$ for all nine states where you can place your first piece!\n",
    "\n",
    "<div style=\"text-align: right; font-weight:bold\"> 6 Points </div>"
   ]
  },
  {
   "cell_type": "code",
   "execution_count": 2,
   "id": "5f396365",
   "metadata": {},
   "outputs": [],
   "source": [
    "# Your code goes here"
   ]
  },
  {
   "cell_type": "markdown",
   "id": "583cbe02",
   "metadata": {},
   "source": [
    "## Task 1.4)\n",
    "\n",
    "Your trained agent from the previous task should beat the random opponent in most, but not all games. Give two reasons why this is the case. Explain whether your trained agent could plausibly consistently beat a human expert.\n",
    "\n",
    "<div style=\"text-align: right; font-weight:bold\"> 4 Points </div>"
   ]
  },
  {
   "cell_type": "markdown",
   "id": "d0afb185",
   "metadata": {},
   "source": [
    "Please answer in this text cell."
   ]
  }
 ],
 "metadata": {
  "kernelspec": {
   "display_name": "rl_kernel_tmp",
   "language": "python",
   "name": "rl_kernel_tmp"
  },
  "language_info": {
   "codemirror_mode": {
    "name": "ipython",
    "version": 3
   },
   "file_extension": ".py",
   "mimetype": "text/x-python",
   "name": "python",
   "nbconvert_exporter": "python",
   "pygments_lexer": "ipython3",
   "version": "3.8.12"
  }
 },
 "nbformat": 4,
 "nbformat_minor": 5
}
