{
 "cells": [
  {
   "cell_type": "markdown",
   "metadata": {},
   "source": [
    "### Robot Learning\n",
    "\n",
    "### Assignment 3\n",
    "\n",
    "Solutions are due on 03.05.2022 before the lecture."
   ]
  },
  {
   "cell_type": "markdown",
   "metadata": {},
   "source": [
    "### Introduction"
   ]
  },
  {
   "cell_type": "markdown",
   "metadata": {},
   "source": [
    "Please familiarize yourself with the environment for this assignment sheet by examining the following code cell, which simulates an agent attempting to travers a challenging racetrack by randomly accelerating or decelerating its car at each time step."
   ]
  },
  {
   "cell_type": "code",
   "execution_count": 1,
   "metadata": {},
   "outputs": [
    {
     "data": {
      "image/png": "[encoded data removed]",
      "text/plain": [
       "<Figure size 1728x1440 with 1 Axes>"
      ]
     },
     "metadata": {
      "needs_background": "light"
     },
     "output_type": "display_data"
    }
   ],
   "source": [
    "import numpy as np\n",
    "# get the required helper class and visualization function\n",
    "from helpers.utils import env, drawTrajectory, racetrack\n",
    "\n",
    "# this makes sure that our description of the episode visualization makes sense\n",
    "np.random.seed(321)\n",
    "\n",
    "# create a racing environment\n",
    "racer = env()\n",
    "# reset the agent to one of the 4 starting cells at random\n",
    "# do this before each new episode\n",
    "racer.reset()\n",
    "# you can also manually set the agent position if you want to examine its behaviour there\n",
    "# for example: racer.setPosition(19,1)\n",
    "# create flag tracking whether the episode is over\n",
    "done = False\n",
    "\n",
    "# create lists to save the trajectory and the decisions of the agent\n",
    "actions = []\n",
    "moves = []\n",
    "velocities = []\n",
    "\n",
    "# these following methods do what you would expect\n",
    "# v is an integer in [0, 35] representing an encoded velocity\n",
    "v = racer.getVelocity()\n",
    "# y, x are both integers, together, they represent the agent location\n",
    "y, x = racer.getPosition()\n",
    "# together (y, x, v) corresponds to the state of the environment\n",
    "\n",
    "# simulate until the episode is over\n",
    "while not done:\n",
    "    # which actions are possible at the current velocity?\n",
    "    # the actions are encoded to integers in [0,8]\n",
    "    possibleActions = racer.getAvailableActions()\n",
    "    # select one of them randomly\n",
    "    a = np.random.choice(possibleActions)\n",
    "    # save the action\n",
    "    actions.append(a)\n",
    "    # execute the action using the step function\n",
    "    # y, x, v are new positions and velocities\n",
    "    # done is the flag whether the episode is over\n",
    "    # travel details exactly which cells the agent traveled through\n",
    "    y, x, v, r, done, travel = racer.step(action = a, deviation=False)\n",
    "    # save the velocities\n",
    "    velocities.append(v)\n",
    "    # save the cells that the agent most recently passed through\n",
    "    # they are only needed for visualization\n",
    "    moves.append(travel)\n",
    "\n",
    "# use the helper function to display how the episode went\n",
    "drawTrajectory(moves, actions, velocities)"
   ]
  },
  {
   "cell_type": "markdown",
   "metadata": {},
   "source": [
    "The agent enters the section on one of the gray cells at the bottom. Its initial velocity is one cell per time step into the upward direction.\n",
    "\n",
    "Actions are to increase or decrease its velocity components by one or to leave it unchanged. To clarify, the actions are not to set a velocity, but to accelerate or decelerate. The velocity is thus part of the agent's state, the available actions are accelerations within the physical limitations of the vehicle that the agent is driving.\n",
    "\n",
    "Both velocity components are restricted to be nonnegative and their sum must be at least 1 and cannot exceed 6. This constrains the available actions based on the agent's current velocity.\n",
    "\n",
    "The rewards are $0.1$ for each step that the agent stays on the track, which is colored green. The reward is −15 if the agent drives into the crash barriers marked in red. The episode ends when the agent crashes or when it succesfully exits the section by driving onto the blue line at the top-right of the grid, yielding a reward of $+15$.\n",
    "\n",
    "As an output to the cell above, you get a visualization of the agent's path through the race track section. You can see several cells marked in dark blue. These are the grid cells that the agent passed through. Between two time steps, they are calculated by a line drawing algorithm given the current position and velocity of the agent, as well as the acceleration it selected. This acceleration is represented by the arrows with the blue tips. In some cases, a cell will instead contain a circle. This represents the action of no acceleration or deceleration at all, which means that the velocity stays the same as in the previous time step. The red arrows show the velocity of the agent at a certain step after the acceleration the agent selected is added to it. \n",
    "\n",
    "For example, at the very start, the agent has the initial velocity of one cell per step towards the top of the grid. However, it chooses to decelerate in y direction and accelerate towards the right. Thus, the resulting velocity, represented by the first red arrow, points towards the right. Unfortunately, the agent did not steer on time and the episode ends in a crash into the barriers.\n",
    "\n",
    "## Task 3.1)\n",
    "\n",
    "Compute  $V(s)$  for each grid cell on the racetrack using constant-$\\alpha$ every-visit Monte Carlo Policy Evaluation for  $10000$ episodes of a policy that uniformly chooses one of the available actions. The update of the state value for this algorithm is given by modifying the incremental update of $\\operatorname{average}(Returns(s))$ to\n",
    "\n",
    "$$V(s_t) = V(s_t) + \\alpha [R_t - V(s_t)],$$\n",
    "\n",
    "where $R_t$ is the actual return following time $t$.\n",
    "\n",
    "Initialize $V(s)$ with zeros, use $\\alpha=0.2$ and also print and visualize the resulting state values!\n",
    "\n",
    "<div style=\"text-align: right; font-weight:bold\"> 5 Points </div>"
   ]
  },
  {
   "cell_type": "code",
   "execution_count": 2,
   "metadata": {},
   "outputs": [],
   "source": [
    "# your code goes here"
   ]
  },
  {
   "cell_type": "markdown",
   "metadata": {},
   "source": [
    "## Task 3.2)\n",
    "\n",
    "Compute the optimal policy using on-policy Monte Carlo control for $100000$ iterations. Initalize $Q(s,a)$ with zeros, use $\\varepsilon=0.1$ for action selection and incrementally update the state-action values towards the every-visit sample average  return by using the update rule \n",
    "\n",
    "$$Q(s_t,a_t) = Q(s_t,a_t) + \\alpha(s_t,a_t) [R_t - Q(s_t,a_t)],$$\n",
    "\n",
    "where $R_t$ is the actual return following time $t$. \n",
    "\n",
    "The adaptive step size is $\\alpha(s_t,a_t) := \\frac{1}{N(s_t,a_t)+1}$, with $N(s_t,a_t)$ the number of times the value of this state-action pair has been updated.\n",
    "\n",
    "After training, use our helper function to show one episode for each of the four possible starting positions.\n",
    "\n",
    "<div style=\"text-align: right; font-weight:bold\"> 10 Points </div>"
   ]
  },
  {
   "cell_type": "code",
   "execution_count": 3,
   "metadata": {},
   "outputs": [],
   "source": [
    "# for convenience, these are the cells that the agent can start in\n",
    "startingGrid = [(19,x) for x in np.arange(1,5)]\n",
    "\n",
    "# your code goes here"
   ]
  },
  {
   "cell_type": "markdown",
   "metadata": {},
   "source": [
    "## Task 3.3)\n",
    "\n",
    "By setting *deviation* to *True* in the step function, the agent randomly moves one cell too far in either the horizontal or vertical direction. For this scenario, compute the optimal policy, again using on-policy Monte Carlo control for $100000$ iterations. \n",
    "\n",
    "Initialize the algorithm using the results from the previous task, but use a constant step size $\\alpha = 0.2$.\n",
    "\n",
    "After training, use our helper function to show one episode for each of the four possible starting positions, but set *deviation* to *False* again to show the agent's intended trajectory.\n",
    "\n",
    "<div style=\"text-align: right; font-weight:bold\"> 5 Points </div>"
   ]
  },
  {
   "cell_type": "code",
   "execution_count": 4,
   "metadata": {},
   "outputs": [],
   "source": [
    "# your code goes here"
   ]
  }
 ],
 "metadata": {
  "kernelspec": {
   "display_name": "Python 3 (ipykernel)",
   "language": "python",
   "name": "python3"
  },
  "language_info": {
   "codemirror_mode": {
    "name": "ipython",
    "version": 3
   },
   "file_extension": ".py",
   "mimetype": "text/x-python",
   "name": "python",
   "nbconvert_exporter": "python",
   "pygments_lexer": "ipython3",
   "version": "3.8.12"
  }
 },
 "nbformat": 4,
 "nbformat_minor": 4
}
