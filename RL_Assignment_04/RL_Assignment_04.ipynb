{
 "cells": [
  {
   "cell_type": "markdown",
   "metadata": {},
   "source": [
    "### Robot Learning\n",
    "\n",
    "### Assignment 4\n",
    "\n",
    "Solutions are due on 10.05.2022 before the lecture."
   ]
  },
  {
   "cell_type": "markdown",
   "metadata": {},
   "source": [
    "### Introduction"
   ]
  },
  {
   "cell_type": "markdown",
   "metadata": {},
   "source": [
    "If you have not done so for the previous sheet, please familiarize yourself with the environment for this assignment sheet by examining the following code cell, which simulates an agent attempting to travers a challenging racetrack by randomly accelerating or decelerating its car at each time step."
   ]
  },
  {
   "cell_type": "code",
   "execution_count": 1,
   "metadata": {
    "ExecuteTime": {
     "end_time": "2022-05-02T09:57:08.857091Z",
     "start_time": "2022-05-02T09:57:07.469490Z"
    }
   },
   "outputs": [
    {
     "data": {
      "image/png": "[encoded data removed]",
      "text/plain": [
       "<Figure size 1728x1440 with 1 Axes>"
      ]
     },
     "metadata": {
      "needs_background": "light"
     },
     "output_type": "display_data"
    }
   ],
   "source": [
    "import numpy as np\n",
    "# get the required helper class and visualization function\n",
    "from helpers.utils import env, drawTrajectory, racetrack\n",
    "\n",
    "# this makes sure that our description of the episode visualization makes sense\n",
    "np.random.seed(2022)\n",
    "\n",
    "# create a racing environment\n",
    "racer = env()\n",
    "# reset the agent to one of the 4 starting cells at random\n",
    "# do this before each new episode\n",
    "racer.reset()\n",
    "# you can also manually set the agent position if you want to examine its behaviour there\n",
    "# for example: racer.setPosition(19,1)\n",
    "# create flag tracking whether the episode is over\n",
    "done = False\n",
    "\n",
    "# create lists to save the trajectory and the decisions of the agent\n",
    "actions = []\n",
    "moves = []\n",
    "velocities = []\n",
    "\n",
    "# these following methods do what you would expect\n",
    "# v is an integer in [0, 35] representing an encoded velocity\n",
    "v = racer.getVelocity()\n",
    "# y, x are both integers, together, they represent the agent location\n",
    "y, x = racer.getPosition()\n",
    "# together (y, x, v) corresponds to the state of the environment\n",
    "\n",
    "# simulate until the episode is over\n",
    "while not done:\n",
    "    # which actions are possible at the current velocity?\n",
    "    # the actions are encoded to integers in [0,8]\n",
    "    possibleActions = racer.getAvailableActions()\n",
    "    # select one of them randomly\n",
    "    a = np.random.choice(possibleActions)\n",
    "    # save the action\n",
    "    actions.append(a)\n",
    "    # execute the action using the step function\n",
    "    # y, x, v are new positions and velocities\n",
    "    # done is the flag whether the episode is over\n",
    "    # travel details exactly which cells the agent traveled through\n",
    "    y, x, v, r, done, travel = racer.step(action = a, deviation = True)\n",
    "    # save the velocities\n",
    "    velocities.append(v)\n",
    "    # save the cells that the agent most recently passed through\n",
    "    # they are only needed for visualization\n",
    "    moves.append(travel)\n",
    "\n",
    "# use the helper function to display how the episode went\n",
    "drawTrajectory(moves, actions, velocities)"
   ]
  },
  {
   "cell_type": "markdown",
   "metadata": {},
   "source": [
    "The agent enters the section on one of the gray cells at the bottom. Its initial velocity is one cell per time step into the upward direction.\n",
    "\n",
    "Actions are to increase or decrease its velocity components by one or to leave it unchanged. To clarify, the actions are not to set a velocity, but to accelerate or decelerate. The velocity is thus part of the agent's state, the available actions are accelerations within the physical limitations of the vehicle that the agent is driving. The agent is not in full control of the vehicle and always moves one cell too far in either the horizontal or vertical direction.\n",
    "\n",
    "Both velocity components are restricted to be nonnegative and their sum must be at least 1 and cannot exceed 6. This constrains the available actions based on the agent's current velocity.\n",
    "\n",
    "The rewards are $-1$ for each step that the agent stays on the track, which is colored green. The reward is −15 if the agent drives into the crash barriers marked in red. The episode ends when the agent crashes or when it succesfully exits the section by driving onto the blue line at the top-right of the grid, yielding a reward of $15$.\n",
    "\n",
    "As an output to the cell above, you get a visualization of the agent's path through the race track section. You can see several cells marked in dark blue. These are the grid cells that the agent passed through. Between two time steps, they are calculated by a line drawing algorithm given the current position and velocity of the agent, as well as the acceleration it selected. This acceleration is represented by the arrows with the blue tips. In some cases, a cell will instead contain a circle. This represents the action of no acceleration or deceleration at all, which means that the velocity stays the same as in the previous time step. The red arrows show the velocity of the agent at a certain step after the acceleration the agent selected is added to it. "
   ]
  },
  {
   "cell_type": "markdown",
   "metadata": {},
   "source": [
    "## Task 4.1)\n",
    "\n",
    "Compute an optimal policy  $\\pi^*(s,a)$ for an agent on the windy (*deviation = True*) racetrack using Sarsa with $\\alpha = 0.2$, $\\gamma = 0.9$ and $\\varepsilon = 0.1$ for $100000$ episodes.\n",
    "\n",
    "To verify your algorithm, show one trajectory beginning in each of the $4$ starting positions. Deactivate exploratory actions and random environment deviations before presenting your agent's behaviour. \n",
    "\n",
    "<div style=\"text-align: right; font-weight:bold\"> 10 Points </div>"
   ]
  },
  {
   "cell_type": "code",
   "execution_count": 2,
   "metadata": {
    "ExecuteTime": {
     "end_time": "2022-05-02T09:57:08.859919Z",
     "start_time": "2022-05-02T09:57:08.858181Z"
    }
   },
   "outputs": [],
   "source": [
    "# for convenience, these are the cells that the agent can start in\n",
    "startingGrid = [(19,x) for x in np.arange(1,5)]\n",
    "\n",
    "# your code goes here"
   ]
  },
  {
   "cell_type": "markdown",
   "metadata": {},
   "source": [
    "## Task 4.2)\n",
    "\n",
    "Again compute an optimal policy  $\\pi^*(s,a)$ for an agent on the windy (*deviation = True*) racetrack. This time, use Q-learning with $\\alpha = 0.2$, $\\gamma = 0.9$ and $\\varepsilon = 0.1$ for $100000$ episodes. To verify your algorithm, show one trajectory beginning in each of the $4$ starting positions. Deactivate exploratory actions and random environment deviations before presenting your agent's behaviour. \n",
    "\n",
    "Compare your results with those for Sarsa by reporting the cumulative moving average episode return of both algorithms during training in a plot. \n",
    "\n",
    "<div style=\"text-align: right; font-weight:bold\"> 4+3 = 7 Points </div>"
   ]
  },
  {
   "cell_type": "code",
   "execution_count": 3,
   "metadata": {
    "ExecuteTime": {
     "end_time": "2022-05-02T09:57:08.863630Z",
     "start_time": "2022-05-02T09:57:08.862168Z"
    }
   },
   "outputs": [],
   "source": [
    "# your code goes here"
   ]
  },
  {
   "cell_type": "markdown",
   "metadata": {},
   "source": [
    "## Task 4.3)\n",
    "\n",
    "Note that the reward structure on this sheet differs from the previous assignment sheet, where driving on the track yielded a reward of $0.1$ instead of $-1$. Discuss whether it would be more or less difficult for Monte Carlo control algorithms to find a policy which is able to clear the racetrack in this scenario. Is there an advantage of using $-1$ as a reward?\n",
    "\n",
    "<div style=\"text-align: right; font-weight:bold\"> 3 Points </div>"
   ]
  },
  {
   "cell_type": "markdown",
   "metadata": {},
   "source": [
    "Please answer in this text cell."
   ]
  }
 ],
 "metadata": {
  "kernelspec": {
   "display_name": "Python 3 (ipykernel)",
   "language": "python",
   "name": "python3"
  },
  "language_info": {
   "codemirror_mode": {
    "name": "ipython",
    "version": 3
   },
   "file_extension": ".py",
   "mimetype": "text/x-python",
   "name": "python",
   "nbconvert_exporter": "python",
   "pygments_lexer": "ipython3",
   "version": "3.8.12"
  }
 },
 "nbformat": 4,
 "nbformat_minor": 4
}
