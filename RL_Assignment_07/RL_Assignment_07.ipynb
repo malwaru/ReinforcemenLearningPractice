{
 "cells": [
  {
   "cell_type": "markdown",
   "metadata": {},
   "source": [
    "### Robot Learning\n",
    "\n",
    "### Assignment 7\n",
    "\n",
    "Solutions are due on 31.05.2022 before the lecture."
   ]
  },
  {
   "cell_type": "markdown",
   "metadata": {},
   "source": [
    "## Task 7.1)\n",
    "\n",
    "Consider a pendulum with point-mass $m = 3 kg$ and length $l = 6 m$.\n",
    "\n",
    "The state $s$ is described by angle $\\theta$ (deviation from upright) and angular speed $\\dot{\\theta} = \\omega$.\n",
    "\n",
    "Gravity and friction act on the pendulum. The dampening force due to friction is proportional to the angular velocity and described by the factor $\\gamma = 1$. \n",
    "\n",
    "Control actions $a_t$ produce a torque around the pendulum hinge joint.\n",
    "\n",
    "Model the system behavior as a discrete-time system with a step size of $\\vartriangle = 0.01 s$!\n",
    "\n",
    "Compute the evolution of the state over $10 s$ for an initial state of $\\theta_0 = -0.4 rad$\n",
    "and $\\omega_0 = 0.6\\frac{rad}{s}$ with zero control input.\n",
    "\n",
    "You can simulate the system behaviour by applying Euler's method and iterating\n",
    "\n",
    "$s_{t + \\vartriangle} \\approx s_t + \\vartriangle \\cdot \\dot{s_t} + \\begin{pmatrix} 0 \\\\ \\frac{1}{I} \\end{pmatrix} \\cdot a_t$\n",
    "\n",
    "with $s_t = \\begin{pmatrix} \\theta_t \\\\ \\omega_t \\end{pmatrix}$, $\\dot{s_t} = \\begin{pmatrix} \\omega_t \\\\ \\ddot{\\theta_t} \\end{pmatrix}$ and the moment of interia $I = m \\cdot l^2$.\n",
    "\n",
    "During simulation, enforce $\\theta_t \\in [-\\pi,\\pi]$. Finally, show the system evolution by plotting $\\theta$ and $\\omega$ against time.\n",
    "\n",
    "<div style=\"text-align: right; font-weight:bold\"> 5 Points </div>"
   ]
  },
  {
   "cell_type": "code",
   "execution_count": 1,
   "metadata": {
    "ExecuteTime": {
     "end_time": "2022-05-24T09:05:48.620698Z",
     "start_time": "2022-05-24T09:05:48.617127Z"
    }
   },
   "outputs": [],
   "source": [
    "# Your code can go here"
   ]
  },
  {
   "cell_type": "markdown",
   "metadata": {},
   "source": [
    "## Task 7.2)\n",
    "\n",
    "Linearize the system around the upward state with zero angular velocity: ($\\theta = 0$, $\\omega = 0$).\n",
    "\n",
    "Provide a linear state transition model\n",
    "\n",
    "$s_{t+\\vartriangle} = A \\cdot s_t + B \\cdot a_t$\n",
    "\n",
    "for the pendulum system dynamics and compare the evolution of the state for this linearized system with the original dynamics for the same initial state of $\\theta_0 = -0.4 rad$ and $\\omega_0 = 0.6 \\frac{rad}{s}$ with zero control input. Again enforce $\\theta_t \\in [-\\pi,\\pi]$ during simulation. \n",
    "\n",
    "<div style=\"text-align: right; font-weight:bold\"> 4 Points </div>"
   ]
  },
  {
   "cell_type": "code",
   "execution_count": 2,
   "metadata": {
    "ExecuteTime": {
     "end_time": "2022-05-24T09:05:48.623790Z",
     "start_time": "2022-05-24T09:05:48.622147Z"
    }
   },
   "outputs": [],
   "source": [
    "# Your code can go here"
   ]
  },
  {
   "cell_type": "markdown",
   "metadata": {},
   "source": [
    "## Task 7.3)\n",
    "\n",
    "Define a reward function which penalizes deviation from the standing still upright state and the magnitude of control actions in a quadratic way.\n",
    "\n",
    "<div style=\"text-align: right; font-weight:bold\"> 2 Point </div>"
   ]
  },
  {
   "cell_type": "code",
   "execution_count": 3,
   "metadata": {
    "ExecuteTime": {
     "end_time": "2022-05-24T09:05:48.626400Z",
     "start_time": "2022-05-24T09:05:48.624662Z"
    }
   },
   "outputs": [],
   "source": [
    "# Your reward function can go here"
   ]
  },
  {
   "cell_type": "markdown",
   "metadata": {},
   "source": [
    "## Task 7.4)\n",
    "\n",
    "Use the method of Linear Quadratic Regulation (LQR) to design a state-feedback policy which optimizes your cost function from **Task 7.3)** over a time horizon of $0.5 s$, starting from the initial condition $\\theta_0 = -0.4 rad$ and $\\omega_0 = 0.6 \\frac{rad}{s}$.\n",
    "\n",
    "Show how the state evolves when the policy is applied for the original system dynamics without linearization.\n",
    "\n",
    "<div style=\"text-align: right; font-weight:bold\"> 7 Points </div>"
   ]
  },
  {
   "cell_type": "markdown",
   "metadata": {},
   "source": [
    "Note that\n",
    "\n",
    "$(B^T \\cdot \\Phi_{t+1} \\cdot B - R)^{-1} \\cdot B^T \\cdot \\Phi_{t+1} =: Z$\n",
    "\n",
    "is used both in the calculation of $\\Phi_t$ and $L_t$. It is also noteworthy that $\\Psi$ is not used for control at all."
   ]
  },
  {
   "cell_type": "code",
   "execution_count": 4,
   "metadata": {
    "ExecuteTime": {
     "end_time": "2022-05-24T09:05:48.630823Z",
     "start_time": "2022-05-24T09:05:48.629203Z"
    }
   },
   "outputs": [],
   "source": [
    "# Your code can go here"
   ]
  },
  {
   "cell_type": "markdown",
   "metadata": {},
   "source": [
    "## Task 7.5)\n",
    "\n",
    "Add zero-mean Gaussian noise with covariance matrix $\\Sigma= diag(0.01, 0.04)$ to the state after each transition and compare how the state evolves when above policy is applied from the same initial conditions, again simulating the original system dynamics without linearization.\n",
    "\n",
    "<div style=\"text-align: right; font-weight:bold\"> 2 Points </div>"
   ]
  },
  {
   "cell_type": "code",
   "execution_count": 5,
   "metadata": {
    "ExecuteTime": {
     "end_time": "2022-05-24T09:05:48.633646Z",
     "start_time": "2022-05-24T09:05:48.632120Z"
    }
   },
   "outputs": [],
   "source": [
    "# Your code can go here"
   ]
  }
 ],
 "metadata": {
  "kernelspec": {
   "display_name": "Python 3 (ipykernel)",
   "language": "python",
   "name": "python3"
  },
  "language_info": {
   "codemirror_mode": {
    "name": "ipython",
    "version": 3
   },
   "file_extension": ".py",
   "mimetype": "text/x-python",
   "name": "python",
   "nbconvert_exporter": "python",
   "pygments_lexer": "ipython3",
   "version": "3.8.12"
  }
 },
 "nbformat": 4,
 "nbformat_minor": 4
}
