{
  "nbformat": 4,
  "nbformat_minor": 0,
  "metadata": {
    "colab": {
      "name": "RL_Assignment_06.ipynb",
      "provenance": [],
      "collapsed_sections": [],
      "include_colab_link": true
    },
    "kernelspec": {
      "display_name": "Python 3",
      "language": "python",
      "name": "python3"
    },
    "language_info": {
      "codemirror_mode": {
        "name": "ipython",
        "version": 3
      },
      "file_extension": ".py",
      "mimetype": "text/x-python",
      "name": "python",
      "nbconvert_exporter": "python",
      "pygments_lexer": "ipython3",
      "version": "3.8.5"
    }
  },
  "cells": [
    {
      "cell_type": "markdown",
      "metadata": {
        "id": "view-in-github",
        "colab_type": "text"
      },
      "source": [
        "<a href=\"https://colab.research.google.com/github/JanNogga/rl_ss22/blob/main/RL_Assignment_06.ipynb\" target=\"_parent\"><img src=\"https://colab.research.google.com/assets/colab-badge.svg\" alt=\"Open In Colab\"/></a>"
      ]
    },
    {
      "cell_type": "markdown",
      "metadata": {
        "id": "42lCQv_4Ztdu"
      },
      "source": [
        "## Robot Learning\n",
        "\n",
        "## Assignment 6\n",
        "\n",
        "Solutions are due on 24.05.2022 before the lecture."
      ]
    },
    {
      "cell_type": "markdown",
      "metadata": {
        "id": "h82ySECHbyST"
      },
      "source": [
        "### Introduction\n",
        "\n",
        "On this assignment sheet, we will use an environment from [OpenAi Gym](https://gym.openai.com/). The setup requires some further packages. Since this installation is not trivial, and we could only test it in our setup, we strongly recommend that you execute the cells in this notebook in [Google Colab](https://research.google.com/colaboratory/). You should find a button which opens this file directly in Colab at the top of this notebook. If not, you can simply import the .ipynb manually. \n",
        "\n",
        "If you have started your Colab session and are ready to proceed, uncomment the two lines in the code cell below. They will install everything required to simulate the Gym environment.\n",
        "\n",
        "**Warning: This is unlikely to work on your own computer, and might even mess up your system! Please only use the following lines in Colab. If you insist on using your own machine, please refer to installation instructions for Gym, torch and the box2d environments for your system.**"
      ]
    },
    {
      "cell_type": "code",
      "metadata": {
        "id": "ILxohiv0bxN5"
      },
      "source": [
        "#!apt-get -qq install python-opengl xvfb x11-utils &> /dev/null\n",
        "#!pip install box2d-py pyvirtualdisplay moviepy pyglet PyOpenGL-accelerate --quiet &> /dev/null"
      ],
      "execution_count": null,
      "outputs": []
    },
    {
      "cell_type": "markdown",
      "metadata": {
        "id": "-Et0INA7elG1"
      },
      "source": [
        "The following cell imports packages required for the task. "
      ]
    },
    {
      "cell_type": "code",
      "metadata": {
        "id": "BCzDT-u_CqE1"
      },
      "source": [
        "import numpy as np\n",
        "import gym\n",
        "import matplotlib.pyplot as plt\n",
        "from pyvirtualdisplay import Display\n",
        "from moviepy.editor import VideoClip\n",
        "from moviepy.video.io.bindings import mplfig_to_npimage\n",
        "import torch\n",
        "import torch.nn as nn\n",
        "from tqdm import tqdm\n",
        "import random"
      ],
      "execution_count": null,
      "outputs": []
    },
    {
      "cell_type": "markdown",
      "metadata": {
        "id": "_-NDX630e0j0"
      },
      "source": [
        "## Task 6.1)\n",
        "\n",
        "Your agent is in state $s_t$ and has the $Q$-values $Q(s_t,a) = [Q(s_t,a_0), Q(s_t,a_1), Q(s_t,a_2), Q(s_t,a_3)] = [4, 2, 0, 7]$. If the agent samples its action according to a probabilistic policy $\\pi(s_t,a)$ which is created by softmax action selection from $Q(s_t,a)$, then what is the probability $Pr(a_3 | s_t)$ of taking action $a_3$ in state $s_t$?\n",
        "\n",
        "<div style=\"text-align: right; font-weight:bold\"> 3 Points </div>"
      ]
    },
    {
      "cell_type": "markdown",
      "metadata": {
        "id": "WqWwhf3Aiw6m"
      },
      "source": [
        "Please answer in this text cell."
      ]
    },
    {
      "cell_type": "markdown",
      "metadata": {
        "id": "-ZKGw1p5oPGl"
      },
      "source": [
        "## Task 6.2)\n",
        "\n",
        "In this task, we will combine an actor-critic method like on the previous sheet with a policy gradient algorithm to control an agent in a challenging environment: the Lunar Lander. "
      ]
    },
    {
      "cell_type": "code",
      "metadata": {
        "colab": {
          "base_uri": "https://localhost:8080/"
        },
        "id": "_eQglYE9xZQG",
        "outputId": "40b0bd43-7ebf-4dbf-db48-e2ae66009c7a"
      },
      "source": [
        "# set up showing animations from the environment in Colab.\n",
        "Display(visible=False).start()"
      ],
      "execution_count": null,
      "outputs": [
        {
          "output_type": "execute_result",
          "data": {
            "text/plain": [
              "<pyvirtualdisplay.display.Display at 0x7f87ed76a7d0>"
            ]
          },
          "metadata": {},
          "execution_count": 3
        }
      ]
    },
    {
      "cell_type": "markdown",
      "metadata": {
        "id": "UcylDxhAo3vh"
      },
      "source": [
        "Examine the code cell below. It has two distinct purposes:\n",
        "\n",
        "* Showcase the agent-environment interaction for LunarLander-v2\n",
        "\n",
        "* Show how you can capture frames from this environment to animate an episode afterwards.\n",
        "\n",
        "Note that for training an agent in this environment, it is advisable to omit all code corresponding to the rendering. You can seperately render an episode of your agent's play afterwards.\n"
      ]
    },
    {
      "cell_type": "code",
      "metadata": {
        "colab": {
          "base_uri": "https://localhost:8080/"
        },
        "id": "lBjPAxrqb1GO",
        "outputId": "c495143a-1b19-41ba-e13b-f508f9523b11"
      },
      "source": [
        "# Name of the environment, if you are having problems you can switch to 'CartPole-v1', which is easier to solve.\n",
        "ENV_NAME = 'LunarLander-v2' #'CartPole-v1' \n",
        "# Dimension of the LunarLander state space. For 'CartPole-v1', use 4 instead\n",
        "ENV_STATE_DIM =  8 # 4\n",
        "# Lunar Lander has 4 discrete actions: [Do Nothing, Fire Left Booster, Fire Main Engine, Fire Right Booster], 'CartPole-v1' has 2\n",
        "ENV_ACTION_DIM = 4 # 2\n",
        "# If the agent reaches this score the task is seen as solved\n",
        "SCORE_TO_SOLVE = 200 # 195\n",
        "MAX_STEPS = None # 500\n",
        "# Create the environment\n",
        "env = gym.make(ENV_NAME)\n",
        "# Reset the environment\n",
        "state = env.reset() # state = [x, y, dx, dy, theta, dtheta, leg1_contact, leg2_contact]\n",
        "# Track whether the episode is over\n",
        "done = False\n",
        "# List to append the frames produced by the environment renderer\n",
        "frames = []\n",
        "while not done:\n",
        "  # Render current situation and append to frames\n",
        "  frames.append(env.render('rgb_array'))\n",
        "  # Select a random action\n",
        "  action = env.action_space.sample()\n",
        "  # Execute this action\n",
        "  state, reward, done, info = env.step(action)\n",
        "# Print the number of frames\n",
        "print('Number of frames:', len(frames))\n",
        "# Prevent the renderer from showing artifacts\n",
        "plt.close()"
      ],
      "execution_count": null,
      "outputs": [
        {
          "output_type": "stream",
          "name": "stdout",
          "text": [
            "Number of frames: 76\n"
          ]
        }
      ]
    },
    {
      "cell_type": "code",
      "metadata": {
        "id": "DoKAmR3onpP1"
      },
      "source": [
        "# Helper function to animate a list of frames as produced above\n",
        "def visualize_trajectory(frames, fps=50):\n",
        "  duration = int(len(frames) // fps + 1)\n",
        "  fig, ax = plt.subplots()\n",
        "  def make_frame(t, ind_max=len(frames)):\n",
        "      ax.clear()\n",
        "      ax.imshow(frames[min((int(fps*t),ind_max-1))])\n",
        "      return mplfig_to_npimage(fig)\n",
        "  plt.close()\n",
        "  return VideoClip(make_frame, duration=duration)"
      ],
      "execution_count": null,
      "outputs": []
    },
    {
      "cell_type": "code",
      "metadata": {
        "colab": {
          "base_uri": "https://localhost:8080/",
          "height": 327
        },
        "id": "ISZEEpkZp04s",
        "outputId": "d21c7f7a-f687-45b8-f5c8-8f06443c77ae"
      },
      "source": [
        "# Get the animation from the frames of the played episode\n",
        "animation = visualize_trajectory(frames)\n",
        "# Show the animation\n",
        "animation.ipython_display(fps=50, loop=True, autoplay=True)"
      ],
      "execution_count": null,
      "outputs": [
        {
          "output_type": "stream",
          "name": "stderr",
          "text": [
            " 99%|█████████▉| 100/101 [00:14<00:00,  6.92it/s]\n"
          ]
        },
        {
          "output_type": "execute_result",
          "data": {
            "text/plain": [
              "<moviepy.video.io.html_tools.HTML2 object>"
            ],
            "text/html": [
              "<div align=middle><video loop='True' autoplay='True'src='data:video/mp4;base64,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' controls>Sorry, seems like your browser doesn't support HTML5 audio/video</video></div>"
            ]
          },
          "metadata": {},
          "execution_count": 6
        }
      ]
    },
    {
      "cell_type": "markdown",
      "metadata": {
        "id": "kP6tJzJvrK2b"
      },
      "source": [
        "Probably, the random agent will destroy itself instead of landing between the two flags. We would like you to improve upon this. Below, you are given a neural net with learnable weights $\\theta$ which takes an environment state $s_t$ as input and can output either a state value $V_{\\theta}(s_t)$ or a probability distribution over the actions $\\pi_{\\theta}(s_t,a)$. "
      ]
    },
    {
      "cell_type": "code",
      "metadata": {
        "colab": {
          "base_uri": "https://localhost:8080/"
        },
        "id": "ipdbrnfet58W",
        "outputId": "cf5bcf24-e58b-455e-9960-7fb98d348f52"
      },
      "source": [
        "# If you feel like it, you can, but you do not need to adapt this\n",
        "class DualNet(nn.Module):\n",
        "    def __init__(self, state_dim=ENV_STATE_DIM, action_dim=ENV_ACTION_DIM, hidden_layer_dim=42):\n",
        "        super(DualNet, self).__init__()\n",
        "        # Create some layers to encode the input state\n",
        "        self.layers = [nn.Linear(state_dim, hidden_layer_dim),\n",
        "                       nn.PReLU(num_parameters=hidden_layer_dim)]\n",
        "        # Combine these layers into a net\n",
        "        self.net = nn.Sequential(*self.layers)\n",
        "        # Critic output layers to estimate V from the state encoding\n",
        "        self.critic = nn.Sequential(*[nn.Linear(hidden_layer_dim,1)])\n",
        "        # Actor output layers to estimate pi from the state encoding\n",
        "        self.actor = nn.Sequential(*[nn.Linear(hidden_layer_dim,action_dim),\n",
        "                                        nn.Softmax(dim=-1)])\n",
        "    def forward(self, s, mode):\n",
        "        # Convert input state to tensor\n",
        "        x = torch.tensor(s).float().view(1,-1)\n",
        "        # Encode state\n",
        "        x = self.net(x)\n",
        "        if mode == 'actor':\n",
        "          # Return probability distribution over actions\n",
        "          x = self.actor(x)\n",
        "        else:\n",
        "          # Return estimate of state value\n",
        "          x = self.critic(x)\n",
        "        return x.squeeze()\n",
        "\n",
        "# Example usage:\n",
        "# Create instance of the DualNet class\n",
        "test_net = DualNet()\n",
        "# Create a dummy state, round just for pretty printing\n",
        "test_input = np.around(np.random.rand(ENV_STATE_DIM),2)\n",
        "# Get the actor output\n",
        "actor_out = test_net(test_input, mode='actor')\n",
        "# Get the critic output\n",
        "critic_out = test_net(test_input, mode='critic')\n",
        "print('Dummy Input:', test_input)\n",
        "print('Actor output:', actor_out)\n",
        "print('Critic output:', critic_out)"
      ],
      "execution_count": null,
      "outputs": [
        {
          "output_type": "stream",
          "name": "stdout",
          "text": [
            "Dummy Input: [0.32 0.84 0.62 0.89 0.79 0.32 0.05 0.59]\n",
            "Actor output: tensor([0.3090, 0.2827, 0.2410, 0.1672], grad_fn=<SqueezeBackward0>)\n",
            "Critic output: tensor(0.1115, grad_fn=<SqueezeBackward0>)\n"
          ]
        }
      ]
    },
    {
      "cell_type": "markdown",
      "metadata": {
        "id": "Xbg1wpQStXHL"
      },
      "source": [
        "Now to the task: Play episodes according to the following scheme:\n",
        "\n",
        "* For each visited state $s_t$, store the output of the critic $V_\\theta(s_t)$ in a list.\n",
        "\n",
        "* Select an action $a_t$ by sampling from the distribution $\\pi_{\\theta}(s_t,a)$ output by the actor. In a list, store the log prob of the action: $l_t = log(\\pi_{\\theta}[s_t,a_t])$. \n",
        "\n",
        "* Execute the action and observe the reward $r_{t+1}$ provided by the environment.\n",
        "\n",
        "After each episode, use the stored rewards to calculate the Returns $R_t$ following each state $s_t$ using the discount factor $\\gamma$. Next, calculate for each $t$\n",
        "\n",
        "$$\\delta_t = R_t - V_{\\theta}(s_t)$$\n",
        "\n",
        "Then, calculate the loss of the critic as\n",
        "\n",
        "$$L_{critic} = 0.5 \\sum_t \\delta_t^2$$\n",
        "\n",
        "and the loss of the actor using the log probs as\n",
        "\n",
        "$$L_{actor} = \\sum_t - l_t  \\delta_t$$\n",
        "\n",
        "and finally the total loss\n",
        "\n",
        "$$L = L_{critic} + L_{actor}$$\n",
        "\n",
        "Now, update the parameters $\\theta$ using\n",
        "\n",
        "$$\\theta \\leftarrow \\theta + \\alpha \\nabla_{\\theta}L$$\n",
        "\n",
        "The Lunar Lander problem is considered solved when the agent achieves an average return of 200 over 100 episodes. Solve the problem, or play around 3000 episodes as described above and then report the average return of the final 100 episodes played. This means that you are welcome to preemptively stop training if the average return is sufficient. Then, play one more episode and animate it like in the example above. Use $\\gamma = 0.99$, and $\\alpha \\approx 0.001$ in your experiments. Save your final animation and place it into your sciebo folder along with this notebook. When we tested this in our colab session, the environment was solved after around 1500 steps, taking around 10 minutes of training time. We used a learning rate of $0.005$, but please note that this parameter might be sensitive to the specifics of your implementation.\n",
        "\n",
        "### Hints:\n",
        "\n",
        "Following tips might help you complete this task:\n",
        "\n",
        "* You might need to convert your return $R_t$ to the correct datatype:\n",
        "\n",
        "$$\\delta_t = torch.tensor(R_t) - V_{\\theta}(s_t)$$\n",
        "\n",
        "* If you want to use numpy to sample from $\\pi_{\\theta}(s_t,a)$, you can get a numpy array by calling \n",
        "\n",
        "$$\\pi_{\\theta}(s_t,a).detach().numpy()$$\n",
        "\n",
        "* When you calculate the log probs $l_t$, preserve the torch gradient graph by using the torch function\n",
        "\n",
        "$$l_t = torch.log(\\pi_{\\theta}[s_t,a_t])$$\n",
        "\n",
        "* When you calculate $L_{actor}$, use $\\delta_t.item()$ to ensure that the actor's loss does not directly influence the critic's gradients.\n",
        "\n",
        "* It might be easier to solve the task for the Cart-Pole environment first, just change ENV_NAME, ENV_STATE_DIM and ENV_ACTION_DIM in one of the previous code blocks. \n",
        "\n",
        "* Standardizing the Returns (zero mean and std 1) before calculating $\\delta_t$ can boost performance.\n",
        "\n",
        "* Below you are already given a rough structure for the algorithm. If you stick to it, torch will compute and apply $\\nabla_{\\theta}L$ for you!\n",
        "\n",
        "<div style=\"text-align: right; font-weight:bold\"> 10 +  3 (animation) Points </div>"
      ]
    },
    {
      "cell_type": "code",
      "metadata": {
        "id": "IOXy4HukVgGf"
      },
      "source": [
        "# Complete this code or write your own!\n",
        "# Create the environment\n",
        "env = gym.make(ENV_NAME)\n",
        "# Get the combined actor and critic model\n",
        "net = DualNet()\n",
        "# Number of episodes to play, maybe use fewer at first\n",
        "num_iter = 3000\n",
        "# Learning rate for the parameter updates\n",
        "alpha = 1e-3\n",
        "# Discount factor\n",
        "gamma = 0.99\n",
        "# The optimizer will do the gradient updates for you\n",
        "# It needs the trainable parameters and a learning rate\n",
        "optimizer = torch.optim.Adam(net.parameters(), lr=alpha)\n",
        "\n",
        "# This progress_bar is useful to know how far along the training is\n",
        "progress_bar = tqdm(range(num_iter), total=num_iter, position=0, leave=True)\n",
        "# For each episode (episode can be used like an int)\n",
        "for episode in progress_bar:\n",
        "    # Reset the accumulated gradients of the model parameters\n",
        "    optimizer.zero_grad()\n",
        "    # Reset the environment and observe the starting state\n",
        "    s = env.reset()\n",
        "    done = 0\n",
        "    # Collect the following terms during the episode\n",
        "    rewards = []\n",
        "    state_vals = []\n",
        "    log_probs = []\n",
        "    while not done:\n",
        "        # During each Episode:\n",
        "        # Evaluate the critic for s, store it\n",
        "        \n",
        "        # Evaluate the actor for s\n",
        "\n",
        "        # Sample a from the distribution given by the actor\n",
        "        \n",
        "        # Store log_prob of a\n",
        "\n",
        "        # Execute action a, observe next state, reward and done\n",
        "        s, r, done, _ = env.step(a)\n",
        "        # Store the reward\n",
        "    \n",
        "\n",
        "    # After each episode is done\n",
        "    # Calculate the Returns from the episode. Use rewards and gamma\n",
        "\n",
        "    # You might want to standardize the Returns\n",
        "\n",
        "    # Calculate delta_t, L_actor, L_critic\n",
        "    \n",
        "    # Calculate the loss L\n",
        "    L = L_critic + L_actor\n",
        "    # Set the gradients with respect to the parameters\n",
        "    L.backward()\n",
        "    # Update the parameters based on the gradients\n",
        "    optimizer.step()\n",
        "    # If you want your progress bar to print info, you can use the following template\n",
        "    # How often to update info\n",
        "    if episode % 10 == 0:\n",
        "        # When to first update info\n",
        "        if episode > 99:\n",
        "            # List of strings containing info\n",
        "            episode_summary = [f\"{episode+1}:\"] + ['List of',  'further strings you might want in your progress bar']\n",
        "            # Set progress bar\n",
        "            progress_bar.set_description(\"\".join(episode_summary))"
      ],
      "execution_count": null,
      "outputs": []
    },
    {
      "cell_type": "code",
      "metadata": {
        "id": "4rDXENdEA5OW"
      },
      "source": [
        " # Your code for showing the results can go here"
      ],
      "execution_count": null,
      "outputs": []
    },
    {
      "cell_type": "markdown",
      "source": [
        "## Task 6.3)\n",
        "\n",
        "In the previous task, you calculate the loss of the policy network as \n",
        "\n",
        "$$L_{actor} = \\sum_t - log(\\pi_{\\theta}[s_t,a_t])  \\delta_t$$\n",
        "\n",
        "with \n",
        "\n",
        "$$\\delta_t = R_t - V_{\\theta}(s_t).$$\n",
        "\n",
        "Give an intuitive explanation why minimizing this term leads to actions with a good outcome being more likely and actions with a bad outcome becoming less likely.\n",
        "\n",
        "<div style=\"text-align: right; font-weight:bold\"> 4 Points </div>"
      ],
      "metadata": {
        "id": "Ut6ld60kHdRt"
      }
    },
    {
      "cell_type": "markdown",
      "source": [
        "Please answer in this text cell."
      ],
      "metadata": {
        "id": "4nrV6-_OSQgx"
      }
    }
  ]
}