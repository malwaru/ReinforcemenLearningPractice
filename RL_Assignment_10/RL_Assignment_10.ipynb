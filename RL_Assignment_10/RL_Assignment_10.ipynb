{
  "nbformat": 4,
  "nbformat_minor": 0,
  "metadata": {
    "colab": {
      "name": "RL_Assignment_10.ipynb",
      "provenance": [],
      "collapsed_sections": [],
      "authorship_tag": "ABX9TyMHmMQMHAoYo/AjSk1bhHf7",
      "include_colab_link": true
    },
    "kernelspec": {
      "name": "python3",
      "display_name": "Python 3"
    },
    "language_info": {
      "name": "python"
    },
    "widgets": {
      "application/vnd.jupyter.widget-state+json": {
        "687565a4852f4f799597e112077db227": {
          "model_module": "@jupyter-widgets/controls",
          "model_name": "HBoxModel",
          "model_module_version": "1.5.0",
          "state": {
            "_dom_classes": [],
            "_model_module": "@jupyter-widgets/controls",
            "_model_module_version": "1.5.0",
            "_model_name": "HBoxModel",
            "_view_count": null,
            "_view_module": "@jupyter-widgets/controls",
            "_view_module_version": "1.5.0",
            "_view_name": "HBoxView",
            "box_style": "",
            "children": [
              "IPY_MODEL_6adf62e08133426b91f4c3ef2b39f519",
              "IPY_MODEL_09cefecf7a9b4288b5a2e5cfa234993b",
              "IPY_MODEL_0560287cb64f419d904a2bc432c95c6b"
            ],
            "layout": "IPY_MODEL_3cbfb73d7c014e9c85ad79f7dd06e9a6"
          }
        },
        "6adf62e08133426b91f4c3ef2b39f519": {
          "model_module": "@jupyter-widgets/controls",
          "model_name": "HTMLModel",
          "model_module_version": "1.5.0",
          "state": {
            "_dom_classes": [],
            "_model_module": "@jupyter-widgets/controls",
            "_model_module_version": "1.5.0",
            "_model_name": "HTMLModel",
            "_view_count": null,
            "_view_module": "@jupyter-widgets/controls",
            "_view_module_version": "1.5.0",
            "_view_name": "HTMLView",
            "description": "",
            "description_tooltip": null,
            "layout": "IPY_MODEL_0b8f462a1a644b5e8369cac437a56b61",
            "placeholder": "​",
            "style": "IPY_MODEL_6d5bcf446b6541a79b83af239c5b82f7",
            "value": "2500:Train: 580.7856257512019, Valid: 543.877685546875, LR: 1.0000000000000002e-06: 100%"
          }
        },
        "09cefecf7a9b4288b5a2e5cfa234993b": {
          "model_module": "@jupyter-widgets/controls",
          "model_name": "FloatProgressModel",
          "model_module_version": "1.5.0",
          "state": {
            "_dom_classes": [],
            "_model_module": "@jupyter-widgets/controls",
            "_model_module_version": "1.5.0",
            "_model_name": "FloatProgressModel",
            "_view_count": null,
            "_view_module": "@jupyter-widgets/controls",
            "_view_module_version": "1.5.0",
            "_view_name": "ProgressView",
            "bar_style": "success",
            "description": "",
            "description_tooltip": null,
            "layout": "IPY_MODEL_3227aa01b363437c95df4ae3049aadfe",
            "max": 2500,
            "min": 0,
            "orientation": "horizontal",
            "style": "IPY_MODEL_8909865a180648c4a2e391df74298343",
            "value": 2500
          }
        },
        "0560287cb64f419d904a2bc432c95c6b": {
          "model_module": "@jupyter-widgets/controls",
          "model_name": "HTMLModel",
          "model_module_version": "1.5.0",
          "state": {
            "_dom_classes": [],
            "_model_module": "@jupyter-widgets/controls",
            "_model_module_version": "1.5.0",
            "_model_name": "HTMLModel",
            "_view_count": null,
            "_view_module": "@jupyter-widgets/controls",
            "_view_module_version": "1.5.0",
            "_view_name": "HTMLView",
            "description": "",
            "description_tooltip": null,
            "layout": "IPY_MODEL_00beab7f7ba84182b891b9b8122f0607",
            "placeholder": "​",
            "style": "IPY_MODEL_d6236fa2ccaa49e8978c74ee2317924f",
            "value": " 2500/2500 [00:43&lt;00:00, 63.62it/s]"
          }
        },
        "3cbfb73d7c014e9c85ad79f7dd06e9a6": {
          "model_module": "@jupyter-widgets/base",
          "model_name": "LayoutModel",
          "model_module_version": "1.2.0",
          "state": {
            "_model_module": "@jupyter-widgets/base",
            "_model_module_version": "1.2.0",
            "_model_name": "LayoutModel",
            "_view_count": null,
            "_view_module": "@jupyter-widgets/base",
            "_view_module_version": "1.2.0",
            "_view_name": "LayoutView",
            "align_content": null,
            "align_items": null,
            "align_self": null,
            "border": null,
            "bottom": null,
            "display": null,
            "flex": null,
            "flex_flow": null,
            "grid_area": null,
            "grid_auto_columns": null,
            "grid_auto_flow": null,
            "grid_auto_rows": null,
            "grid_column": null,
            "grid_gap": null,
            "grid_row": null,
            "grid_template_areas": null,
            "grid_template_columns": null,
            "grid_template_rows": null,
            "height": null,
            "justify_content": null,
            "justify_items": null,
            "left": null,
            "margin": null,
            "max_height": null,
            "max_width": null,
            "min_height": null,
            "min_width": null,
            "object_fit": null,
            "object_position": null,
            "order": null,
            "overflow": null,
            "overflow_x": null,
            "overflow_y": null,
            "padding": null,
            "right": null,
            "top": null,
            "visibility": null,
            "width": null
          }
        },
        "0b8f462a1a644b5e8369cac437a56b61": {
          "model_module": "@jupyter-widgets/base",
          "model_name": "LayoutModel",
          "model_module_version": "1.2.0",
          "state": {
            "_model_module": "@jupyter-widgets/base",
            "_model_module_version": "1.2.0",
            "_model_name": "LayoutModel",
            "_view_count": null,
            "_view_module": "@jupyter-widgets/base",
            "_view_module_version": "1.2.0",
            "_view_name": "LayoutView",
            "align_content": null,
            "align_items": null,
            "align_self": null,
            "border": null,
            "bottom": null,
            "display": null,
            "flex": null,
            "flex_flow": null,
            "grid_area": null,
            "grid_auto_columns": null,
            "grid_auto_flow": null,
            "grid_auto_rows": null,
            "grid_column": null,
            "grid_gap": null,
            "grid_row": null,
            "grid_template_areas": null,
            "grid_template_columns": null,
            "grid_template_rows": null,
            "height": null,
            "justify_content": null,
            "justify_items": null,
            "left": null,
            "margin": null,
            "max_height": null,
            "max_width": null,
            "min_height": null,
            "min_width": null,
            "object_fit": null,
            "object_position": null,
            "order": null,
            "overflow": null,
            "overflow_x": null,
            "overflow_y": null,
            "padding": null,
            "right": null,
            "top": null,
            "visibility": null,
            "width": null
          }
        },
        "6d5bcf446b6541a79b83af239c5b82f7": {
          "model_module": "@jupyter-widgets/controls",
          "model_name": "DescriptionStyleModel",
          "model_module_version": "1.5.0",
          "state": {
            "_model_module": "@jupyter-widgets/controls",
            "_model_module_version": "1.5.0",
            "_model_name": "DescriptionStyleModel",
            "_view_count": null,
            "_view_module": "@jupyter-widgets/base",
            "_view_module_version": "1.2.0",
            "_view_name": "StyleView",
            "description_width": ""
          }
        },
        "3227aa01b363437c95df4ae3049aadfe": {
          "model_module": "@jupyter-widgets/base",
          "model_name": "LayoutModel",
          "model_module_version": "1.2.0",
          "state": {
            "_model_module": "@jupyter-widgets/base",
            "_model_module_version": "1.2.0",
            "_model_name": "LayoutModel",
            "_view_count": null,
            "_view_module": "@jupyter-widgets/base",
            "_view_module_version": "1.2.0",
            "_view_name": "LayoutView",
            "align_content": null,
            "align_items": null,
            "align_self": null,
            "border": null,
            "bottom": null,
            "display": null,
            "flex": null,
            "flex_flow": null,
            "grid_area": null,
            "grid_auto_columns": null,
            "grid_auto_flow": null,
            "grid_auto_rows": null,
            "grid_column": null,
            "grid_gap": null,
            "grid_row": null,
            "grid_template_areas": null,
            "grid_template_columns": null,
            "grid_template_rows": null,
            "height": null,
            "justify_content": null,
            "justify_items": null,
            "left": null,
            "margin": null,
            "max_height": null,
            "max_width": null,
            "min_height": null,
            "min_width": null,
            "object_fit": null,
            "object_position": null,
            "order": null,
            "overflow": null,
            "overflow_x": null,
            "overflow_y": null,
            "padding": null,
            "right": null,
            "top": null,
            "visibility": null,
            "width": null
          }
        },
        "8909865a180648c4a2e391df74298343": {
          "model_module": "@jupyter-widgets/controls",
          "model_name": "ProgressStyleModel",
          "model_module_version": "1.5.0",
          "state": {
            "_model_module": "@jupyter-widgets/controls",
            "_model_module_version": "1.5.0",
            "_model_name": "ProgressStyleModel",
            "_view_count": null,
            "_view_module": "@jupyter-widgets/base",
            "_view_module_version": "1.2.0",
            "_view_name": "StyleView",
            "bar_color": null,
            "description_width": ""
          }
        },
        "00beab7f7ba84182b891b9b8122f0607": {
          "model_module": "@jupyter-widgets/base",
          "model_name": "LayoutModel",
          "model_module_version": "1.2.0",
          "state": {
            "_model_module": "@jupyter-widgets/base",
            "_model_module_version": "1.2.0",
            "_model_name": "LayoutModel",
            "_view_count": null,
            "_view_module": "@jupyter-widgets/base",
            "_view_module_version": "1.2.0",
            "_view_name": "LayoutView",
            "align_content": null,
            "align_items": null,
            "align_self": null,
            "border": null,
            "bottom": null,
            "display": null,
            "flex": null,
            "flex_flow": null,
            "grid_area": null,
            "grid_auto_columns": null,
            "grid_auto_flow": null,
            "grid_auto_rows": null,
            "grid_column": null,
            "grid_gap": null,
            "grid_row": null,
            "grid_template_areas": null,
            "grid_template_columns": null,
            "grid_template_rows": null,
            "height": null,
            "justify_content": null,
            "justify_items": null,
            "left": null,
            "margin": null,
            "max_height": null,
            "max_width": null,
            "min_height": null,
            "min_width": null,
            "object_fit": null,
            "object_position": null,
            "order": null,
            "overflow": null,
            "overflow_x": null,
            "overflow_y": null,
            "padding": null,
            "right": null,
            "top": null,
            "visibility": null,
            "width": null
          }
        },
        "d6236fa2ccaa49e8978c74ee2317924f": {
          "model_module": "@jupyter-widgets/controls",
          "model_name": "DescriptionStyleModel",
          "model_module_version": "1.5.0",
          "state": {
            "_model_module": "@jupyter-widgets/controls",
            "_model_module_version": "1.5.0",
            "_model_name": "DescriptionStyleModel",
            "_view_count": null,
            "_view_module": "@jupyter-widgets/base",
            "_view_module_version": "1.2.0",
            "_view_name": "StyleView",
            "description_width": ""
          }
        }
      }
    },
    "accelerator": "GPU",
    "gpuClass": "standard"
  },
  "cells": [
    {
      "cell_type": "markdown",
      "metadata": {
        "id": "view-in-github",
        "colab_type": "text"
      },
      "source": [
        "<a href=\"https://colab.research.google.com/github/JanNogga/rl_ss22/blob/main/RL_Assignment_10.ipynb\" target=\"_parent\"><img src=\"https://colab.research.google.com/assets/colab-badge.svg\" alt=\"Open In Colab\"/></a>"
      ]
    },
    {
      "cell_type": "markdown",
      "source": [
        "### Robot Learning\n",
        "\n",
        "### Assignment 10\n",
        "\n",
        "Solutions are due 28.06.2022 before the lecture.\n",
        "\n",
        "As usual, only uncomment and run the cell below if you are using this notebook in a colab environment!"
      ],
      "metadata": {
        "id": "2BO___Vzh-Jv"
      }
    },
    {
      "cell_type": "code",
      "execution_count": 1,
      "metadata": {
        "id": "y3mEsH2k4ayP"
      },
      "outputs": [],
      "source": [
        "#!apt-get -qq install python-opengl xvfb x11-utils &> /dev/null\n",
        "#!pip install box2d-py pyvirtualdisplay moviepy pyglet PyOpenGL-accelerate --quiet &> /dev/null"
      ]
    },
    {
      "cell_type": "code",
      "source": [
        "import numpy as np\n",
        "import gym\n",
        "import matplotlib.pyplot as plt\n",
        "from pyvirtualdisplay import Display\n",
        "from moviepy.editor import VideoClip\n",
        "from moviepy.video.io.bindings import mplfig_to_npimage\n",
        "import torch\n",
        "import torch.nn as nn\n",
        "from torch.utils.data import Dataset, DataLoader\n",
        "from tqdm.auto import tqdm\n",
        "import random"
      ],
      "metadata": {
        "id": "uIGwINd94w1D"
      },
      "execution_count": 2,
      "outputs": []
    },
    {
      "cell_type": "code",
      "source": [
        "# set up showing animations from the environment in Colab.\n",
        "Display(visible=False).start()"
      ],
      "metadata": {
        "colab": {
          "base_uri": "https://localhost:8080/"
        },
        "id": "ErIT0oZT41ZW",
        "outputId": "6f842c6f-23d0-4843-d14a-cd0e461120a8"
      },
      "execution_count": 3,
      "outputs": [
        {
          "output_type": "execute_result",
          "data": {
            "text/plain": [
              "<pyvirtualdisplay.display.Display at 0x7f09dd99efd0>"
            ]
          },
          "metadata": {},
          "execution_count": 3
        }
      ]
    },
    {
      "cell_type": "markdown",
      "source": [
        "## Task 10.1)\n",
        "\n",
        "Familiarize yourself with the prediction of continuous function values using supervised learning by examining the example below, in which a toy dataset containing samples $(x, y=f(x))$ is used to fit a fully connected neural network to the polynomial $f$. "
      ],
      "metadata": {
        "id": "OlAdJrgFiTBG"
      }
    },
    {
      "cell_type": "code",
      "source": [
        "## define the toy dataset\n",
        "class ToyPolynomialDataset(Dataset):\n",
        "    def __init__(self, samples, A, B, C):\n",
        "        self.samples = samples\n",
        "        self.targets = A*torch.pow(self.samples, 2) + B*self.samples+ C\n",
        "\n",
        "    def __len__(self):\n",
        "        return self.targets.shape[0]\n",
        "        \n",
        "    def __getitem__(self, idx):\n",
        "        return torch.atleast_1d(self.samples[idx]), torch.atleast_1d(self.targets[idx])\n",
        "\n",
        "## characterize the polynomial f\n",
        "A, B, C = 5, 3, -2\n",
        "## discretize sampling interval of f\n",
        "samples = torch.linspace(-10, 10, steps=64)\n",
        "## split into training and validation data\n",
        "indices = list(range(samples.shape[0]))\n",
        "split = int(np.ceil(0.8 * samples.shape[0]))\n",
        "np.random.shuffle(indices)\n",
        "train_idx, valid_idx = indices[:split], indices[split:]\n",
        "## create training and validation datasets\n",
        "train_data = ToyPolynomialDataset(samples[train_idx], A, B, C)\n",
        "valid_data = ToyPolynomialDataset(samples[valid_idx], A, B, C)\n",
        "## create corresponding dataloaders, which handle batching and shuffling\n",
        "train_loader = DataLoader(train_data, batch_size=8, shuffle=True)\n",
        "valid_loader = DataLoader(valid_data, batch_size=8, shuffle=False)"
      ],
      "metadata": {
        "id": "ArYlro_6nzXZ"
      },
      "execution_count": 4,
      "outputs": []
    },
    {
      "cell_type": "code",
      "source": [
        "## define a model to approximate f\n",
        "class Net(nn.Module):\n",
        "    def __init__(self, input_dim=1, hidden_layer_dim=8, output_dim=1):\n",
        "        super(Net, self).__init__()\n",
        "        # Create some fully connected layers\n",
        "        self.layers = [nn.Linear(input_dim, hidden_layer_dim, bias=True),\n",
        "                       nn.LeakyReLU(),\n",
        "                       \n",
        "                       nn.Linear(hidden_layer_dim, hidden_layer_dim, bias=True),\n",
        "                       nn.LeakyReLU(),\n",
        "\n",
        "                       nn.Linear(hidden_layer_dim, output_dim, bias=True)]\n",
        "        # Combine these layers into a neural network\n",
        "        self.net = nn.Sequential(*self.layers)\n",
        "\n",
        "    def forward(self, s):\n",
        "        # Convert input state to tensor if necessary\n",
        "        # np_check does absolutely nothing here, but deals with open ai gym states\n",
        "        np_check = type(s) is np.ndarray\n",
        "        x = torch.from_numpy(s).float().view(1,-1).to(next(self.parameters()).device) if np_check else s\n",
        "        # Map state to action vector\n",
        "        x = self.net(x)\n",
        "        # Return format of action based on input type\n",
        "        return np.clip(x.squeeze().detach().cpu().numpy(),-1,1) if np_check else x"
      ],
      "metadata": {
        "id": "2aAB4IbWz830"
      },
      "execution_count": 5,
      "outputs": []
    },
    {
      "cell_type": "code",
      "source": [
        "## check if there is a gpu available - if so, use it\n",
        "# you can activate one at Edit→Notebook Settings, but don't need to\n",
        "device = torch.device('cuda') if torch.cuda.is_available() else torch.device('cpu')\n",
        "print('Using device:', device)\n",
        "# create an instance of your model\n",
        "model = Net().to(device)\n",
        "# define a criterion, setup optimizer and schedule to reduce learning rate\n",
        "criterion = torch.nn.MSELoss(reduction='sum') \n",
        "optimizer = torch.optim.Adam(model.parameters(), lr=1e-3)\n",
        "scheduler = torch.optim.lr_scheduler.ReduceLROnPlateau(optimizer, 'min', min_lr=1e-6)"
      ],
      "metadata": {
        "colab": {
          "base_uri": "https://localhost:8080/"
        },
        "id": "boGdgydB1JT0",
        "outputId": "8300afc2-e7ba-4349-e43f-1a7cdefba28f"
      },
      "execution_count": 6,
      "outputs": [
        {
          "output_type": "stream",
          "name": "stdout",
          "text": [
            "Using device: cuda\n"
          ]
        }
      ]
    },
    {
      "cell_type": "code",
      "source": [
        "## typical layout of a neural regression task:\n",
        "# -> alternate validation and training epochs, track losses\n",
        "N_EPOCHS = 2500\n",
        "\n",
        "best_valid_loss = 1e25\n",
        "losses_train, losses_valid = [], []\n",
        "progress_bar = tqdm(range(N_EPOCHS), total=N_EPOCHS, position=0, leave=True)\n",
        "for i in progress_bar:\n",
        "    # validation epoch\n",
        "    loss_valid = 0\n",
        "    # important to set model to eval mode for some layers (like dropout)\n",
        "    model.eval()\n",
        "    # don't need gradients for validation\n",
        "    with torch.no_grad():\n",
        "        # dataloaders provide batches of training samples and targets\n",
        "        for x_valid, y_valid in valid_loader:\n",
        "            x_valid, y_valid = x_valid.to(device), y_valid.to(device)\n",
        "            net_out_valid = model(x_valid)\n",
        "            # loss between network output and target\n",
        "            loss_valid += criterion(net_out_valid, y_valid)\n",
        "    # keep track of losses\n",
        "    losses_valid.append(loss_valid.item()/len(valid_data))\n",
        "    # if the valid loss is best so far, save model\n",
        "    if losses_valid[-1] < best_valid_loss:\n",
        "        best_valid_loss = losses_valid[-1]\n",
        "        torch.save(model.state_dict(), 'best_weights.pth')\n",
        "\n",
        "    # training epoch\n",
        "    loss_train_sum = 0\n",
        "    # important to set model to train mode for some layers (like dropout)\n",
        "    model.train()\n",
        "    for x_train, y_train in train_loader:\n",
        "        x_train, y_train = x_train.to(device), y_train.to(device)\n",
        "        net_out = model(x_train)\n",
        "        loss_train = criterion(net_out, y_train)\n",
        "        # this term keeps track of the loss \n",
        "        loss_train_sum += loss_train.item()\n",
        "        loss_train /= x_train.shape[0]\n",
        "        # backprop error and update network weights\n",
        "        optimizer.zero_grad()\n",
        "        loss_train.backward()\n",
        "        optimizer.step()\n",
        "    losses_train.append(loss_train_sum/len(train_data))\n",
        "    learning_rates = np.array([g['lr'] for g in optimizer.param_groups])\n",
        "    # Show current training stats\n",
        "    episode_summary = [f\"{i+1}:\"] + [f'Train: {losses_train[-1]}, Valid: {losses_valid[-1]}, LR: {learning_rates.mean()}']\n",
        "    # Set progress bar\n",
        "    progress_bar.set_description(\"\".join(episode_summary))\n",
        "    # Decrease learning rate if necessary\n",
        "    scheduler.step(losses_valid[-1])\n",
        "# Optional - set model to the best encountered during training\n",
        "model.load_state_dict(torch.load('best_weights.pth'))\n",
        "model.eval()\n",
        "print('Training completed!')"
      ],
      "metadata": {
        "colab": {
          "base_uri": "https://localhost:8080/",
          "height": 66,
          "referenced_widgets": [
            "687565a4852f4f799597e112077db227",
            "6adf62e08133426b91f4c3ef2b39f519",
            "09cefecf7a9b4288b5a2e5cfa234993b",
            "0560287cb64f419d904a2bc432c95c6b",
            "3cbfb73d7c014e9c85ad79f7dd06e9a6",
            "0b8f462a1a644b5e8369cac437a56b61",
            "6d5bcf446b6541a79b83af239c5b82f7",
            "3227aa01b363437c95df4ae3049aadfe",
            "8909865a180648c4a2e391df74298343",
            "00beab7f7ba84182b891b9b8122f0607",
            "d6236fa2ccaa49e8978c74ee2317924f"
          ]
        },
        "id": "FVHP_tcf2TF_",
        "outputId": "ce61a002-cb69-4a36-e5eb-7a5ee15811a0"
      },
      "execution_count": 7,
      "outputs": [
        {
          "output_type": "display_data",
          "data": {
            "text/plain": [
              "  0%|          | 0/2500 [00:00<?, ?it/s]"
            ],
            "application/vnd.jupyter.widget-view+json": {
              "version_major": 2,
              "version_minor": 0,
              "model_id": "687565a4852f4f799597e112077db227"
            }
          },
          "metadata": {}
        },
        {
          "output_type": "stream",
          "name": "stdout",
          "text": [
            "Training completed!\n"
          ]
        }
      ]
    },
    {
      "cell_type": "code",
      "source": [
        "# Get ground truth and network prediction \n",
        "gt = A*torch.pow(samples, 2) + B*samples + C\n",
        "with torch.no_grad():\n",
        "    net_out = model(samples.view(-1,1).to(device)).cpu().numpy()\n",
        "# Finally plot the learning curves and the approximated function\n",
        "fig, ax = plt.subplots(1,2)\n",
        "fig.set_size_inches(16,5)\n",
        "fig.suptitle('Training Summary', fontsize=18)\n",
        "ax[0].plot(np.array(losses_train), label='train loss', c='r', lw=1)\n",
        "ax[0].plot(np.array(losses_valid), label='valid loss', c='b', lw=1)\n",
        "ax[0].set_xlabel(\"epoch\")\n",
        "ax[0].set_ylabel(\"MSE\")\n",
        "ax[0].set_yscale('log')\n",
        "ax[0].legend()\n",
        "ax[0].set_title('Training and Validation Losses')\n",
        "\n",
        "ax[1].plot(samples, gt, label='ground truth', c='g', lw=2)\n",
        "ax[1].plot(samples, net_out, label='net prediction', c='r', lw=2, ls='--')\n",
        "ax[1].set_xlabel(\"x\")\n",
        "ax[1].set_ylabel(\"f(x)\")\n",
        "ax[1].legend(loc=\"lower right\")\n",
        "ax[1].set_title('Network Output vs Ground Truth')\n",
        "plt.show()"
      ],
      "metadata": {
        "colab": {
          "base_uri": "https://localhost:8080/",
          "height": 370
        },
        "id": "rgdCYPYd6Jtx",
        "outputId": "5b48ecfb-c76d-4c1b-9ad6-98a7930e3b05"
      },
      "execution_count": 8,
      "outputs": [
        {
          "output_type": "display_data",
          "data": {
            "text/plain": [
              "<Figure size 1152x360 with 2 Axes>"
            ],
            "image/png": "[encoded data removed]"
          },
          "metadata": {
            "needs_background": "light"
          }
        }
      ]
    },
    {
      "cell_type": "markdown",
      "source": [
        "Please answer the following questions on the neural regression task above:\n",
        "\n",
        "* How many parameters are optimized in total?\n",
        "\n",
        "* Which signs are there that the models needs more/less parameters/layers?\n",
        "\n",
        "* Discuss whether the model has overfit the training data.\n",
        "\n",
        "<div style=\"text-align: right; font-weight:bold\"> 3 + 1 + 1 = 5 Points </div>"
      ],
      "metadata": {
        "id": "-EUfeRDpAqPX"
      }
    },
    {
      "cell_type": "markdown",
      "source": [
        "Please answer in this text cell."
      ],
      "metadata": {
        "id": "Yv0YHFcBEx6X"
      }
    },
    {
      "cell_type": "markdown",
      "source": [
        "## Task 10.2)\n",
        "\n",
        "Suppose you are given a complicated RL environment with an $N$-dimensional state space and a $D$-dimensional continous action space as well as a human expert who can perform well in this environment using a joystick. \n",
        "\n",
        "What data needs to be collected and what adjustments must be made to the procedure above to apply behavioral cloning? Answer as specifically as possible and also refer to the hyperparameters used in the training process seen in the previous task.\n",
        "\n",
        "<div style=\"text-align: right; font-weight:bold\"> 7 Points </div>"
      ],
      "metadata": {
        "id": "HN_Hx0pBDjST"
      }
    },
    {
      "cell_type": "markdown",
      "source": [
        "Please answer in this text cell."
      ],
      "metadata": {
        "id": "1K5vHJeTFQca"
      }
    },
    {
      "cell_type": "markdown",
      "source": [
        "## Task 10.3)\n",
        "\n",
        "Familiarize yourself with the Gym environment [Bipedal Walker v3](https://www.gymlibrary.ml/environments/box2d/bipedal_walker/) by examing the code below, which simulates and animates one episode using the random agent."
      ],
      "metadata": {
        "id": "TNgpz2qJFTeH"
      }
    },
    {
      "cell_type": "code",
      "source": [
        "# Create the environment\n",
        "env = gym.make('BipedalWalker-v3')\n",
        "# Reset the environment\n",
        "state = env.reset()\n",
        "# Track whether the episode is over\n",
        "done = False\n",
        "# List to append the frames produced by the environment renderer\n",
        "frames = []\n",
        "while not done:\n",
        "    # Render current situation and append to frames\n",
        "    frames.append(env.render('rgb_array'))\n",
        "    # Select a random action\n",
        "    action = env.action_space.sample()\n",
        "    # Execute this action\n",
        "    state, reward, done, info = env.step(action)\n",
        "# Print the number of frames\n",
        "print('Number of frames:', len(frames))\n",
        "# Prevent the renderer from showing artifacts\n",
        "plt.close()"
      ],
      "metadata": {
        "colab": {
          "base_uri": "https://localhost:8080/"
        },
        "id": "qnePnoJHGC6Q",
        "outputId": "d89f0098-eea1-475f-c395-4cab96b01c2b"
      },
      "execution_count": 9,
      "outputs": [
        {
          "output_type": "stream",
          "name": "stdout",
          "text": [
            "Number of frames: 59\n"
          ]
        }
      ]
    },
    {
      "cell_type": "code",
      "source": [
        "# Helper function to animate a list of frames as produced above\n",
        "def visualize_trajectory(frames, fps=30):\n",
        "  duration = int(len(frames) // fps + 1)\n",
        "  fig, ax = plt.subplots()\n",
        "  def make_frame(t, ind_max=len(frames)):\n",
        "      ax.clear()\n",
        "      ax.imshow(frames[min((int(fps*t),ind_max-1))])\n",
        "      return mplfig_to_npimage(fig)\n",
        "  plt.close()\n",
        "  return VideoClip(make_frame, duration=duration)"
      ],
      "metadata": {
        "id": "RIZoFsZo49o7"
      },
      "execution_count": 10,
      "outputs": []
    },
    {
      "cell_type": "code",
      "source": [
        "# Get the animation from the frames of the played episode\n",
        "animation = visualize_trajectory(frames)\n",
        "# Show the animation\n",
        "animation.ipython_display(fps=30, loop=True, autoplay=True)"
      ],
      "metadata": {
        "colab": {
          "base_uri": "https://localhost:8080/",
          "height": 326
        },
        "id": "1IYQgOWfGesr",
        "outputId": "80e4301b-e01f-4dfd-b97a-43cac311d2c0"
      },
      "execution_count": 11,
      "outputs": [
        {
          "output_type": "stream",
          "name": "stderr",
          "text": [
            " 98%|█████████▊| 60/61 [00:04<00:00, 13.74it/s]\n"
          ]
        },
        {
          "output_type": "execute_result",
          "data": {
            "text/plain": [
              "<moviepy.video.io.html_tools.HTML2 object>"
            ],
            "text/html": [
              "<div align=middle><video loop='True' autoplay='True'src='data:video/mp4;base64,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' controls>Sorry, seems like your browser doesn't support HTML5 audio/video</video></div>"
            ]
          },
          "metadata": {},
          "execution_count": 11
        }
      ]
    },
    {
      "cell_type": "markdown",
      "source": [
        "Additionally, examine the cells below, which download and setup dataloaders for expert traces from 256 episodes for training and 24 episodes for validation. In this case the expert was simulated using a walking heuristic provided by Gym."
      ],
      "metadata": {
        "id": "97vdMkapNPSM"
      }
    },
    {
      "cell_type": "code",
      "source": [
        "# download the data\n",
        "!wget https://github.com/JanNogga/rl_ss22/raw/main/walker_heuristic_train.pt &> /dev/null\n",
        "!wget https://github.com/JanNogga/rl_ss22/raw/main/walker_heuristic_valid.pt &> /dev/null\n",
        "# define dataset\n",
        "class HeuristicWalkerDataset(Dataset):\n",
        "    def __init__(self, f):\n",
        "        data = torch.load(f)\n",
        "        self.states, self.actions = data['states'].float(), data['actions'].float()\n",
        "\n",
        "    def __len__(self):\n",
        "        return self.states.shape[0]\n",
        "        \n",
        "    def __getitem__(self, idx):\n",
        "        # output is s, a --- ready for batching in dataloader\n",
        "        return self.states[idx], self.actions[idx]"
      ],
      "metadata": {
        "id": "GrOBP1LaYzM6"
      },
      "execution_count": 12,
      "outputs": []
    },
    {
      "cell_type": "code",
      "source": [
        "# create the datasets for training and validation\n",
        "walker_train_data = HeuristicWalkerDataset(f='walker_heuristic_train.pt')\n",
        "walker_valid_data = HeuristicWalkerDataset(f='walker_heuristic_valid.pt')\n",
        "\n",
        "# create the corresponding dataloaders\n",
        "walker_train_loader = DataLoader(walker_train_data, batch_size=256, shuffle=True)\n",
        "walker_valid_loader = DataLoader(walker_valid_data, batch_size=1024, shuffle=False)"
      ],
      "metadata": {
        "id": "1x3-E1O9giFG"
      },
      "execution_count": 13,
      "outputs": []
    },
    {
      "cell_type": "markdown",
      "source": [
        "Use behavioral cloning to learn a policy for BipedalWalker-v3. Make sure to show your learning curve, and animate an episode of your agent walking. You can make use of the blueprint provided in task 10.1) but need to adapt hyperparameters and the model architecture.\n",
        "\n",
        "Measured by average MSE with respect to the training data, your agent should score lower than $0.009$ as weak baseline. Without too much overfitting, your agent should start properly walking at an average training MSE of around $0.0015$. Training is possible in less than 20 minutes, but will be slightly faster if you activate the GPU capabilities of your colab session.\n",
        "\n",
        "<div style=\"text-align: right; font-weight:bold\"> 8 Points </div>"
      ],
      "metadata": {
        "id": "iO339fziPmLx"
      }
    },
    {
      "cell_type": "code",
      "source": [
        "# Your code can go here."
      ],
      "metadata": {
        "id": "1NNnHKQOQahF"
      },
      "execution_count": 14,
      "outputs": []
    }
  ]
}